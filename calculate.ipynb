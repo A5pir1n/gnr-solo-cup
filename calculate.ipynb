{
 "cells": [
  {
   "cell_type": "code",
   "execution_count": 5,
   "metadata": {},
   "outputs": [],
   "source": [
    "import pandas as pd\n",
    "from io import StringIO\n",
    "\n",
    "# CSV data as a string\n",
    "csv_data = \"\"\"\n",
    "Rounds,Red,Blue,Game 1 Time,Game 1 Red Champ,Game 1 Blue Champ,Game 1 Red DMG,Game 1 Blue DMG,Game 1 Red CS,Game 1 Blue CS,Game 1 Winner,Game 2 Time,Game 2 Red Champ,Game 2 Blue Champ,Game 2 Red DMG,Game 2 Blue DMG,Game 2 Red CS,Game 2 Blue CS,Game 2 Winner,Game 3 Indicator,Game 3 Time,Game 3 Red Champ,Game 3 Blue Champ,Game 3 Red DMG,Game 3 Blue DMG,Game 3 Red CS,Game 3 Blue CS,Game 3 Winner,Game Winner\n",
    "1,Zuoyuan,Domoya,3:03,Fiora,Shen,1612,1147,4,5,Zuoyuan,4:00,Aurora,Chogath,1726,761,14,11,Zuoyuan,0,,,,,,,,,Zuoyuan\n",
    "2,Domoya,JC,2:45,Shen,Camile,963,901,3,9,Domoya,8:07,Aatrox,Ksante,3642,2061,53,44,Domoya,0,,,,,,,,,Domoya\n",
    "3,Domoya,Viper3,5:10,Tahm Kech,Aatrox,1133,2087,24,29,Viper3,5:40,Sion,Fiora,2819,1417,27,26,Domoya,1,9:21,Nasus,Sett,3681,3880,40,74,Viper3,Viper3\n",
    "4,Zuoyuan,Viper3,4:03,Yone,Fiora,851,1372,7,24,Viper3,3:33,Renekton,Jayce,757,757,15,14,Zuoyuan,1,3:28,Jax,Aatrox,1117,846,13,5,Zuoyuan,Zuoyuan\n",
    "\"\"\"\n",
    "\n",
    "# Load the CSV data into a DataFrame\n",
    "data = pd.read_csv(StringIO(csv_data))"
   ]
  },
  {
   "cell_type": "code",
   "execution_count": 6,
   "metadata": {},
   "outputs": [
    {
     "name": "stdout",
     "output_type": "stream",
     "text": [
      "/Users/tigerweng/anaconda3/bin/python\n"
     ]
    }
   ],
   "source": [
    "import sys\n",
    "print(sys.executable)"
   ]
  },
  {
   "cell_type": "code",
   "execution_count": 7,
   "metadata": {},
   "outputs": [
    {
     "name": "stdout",
     "output_type": "stream",
     "text": [
      "Requirement already satisfied: ace_tools in /Users/tigerweng/anaconda3/lib/python3.11/site-packages (0.0)\n"
     ]
    }
   ],
   "source": [
    "!pip3 install ace_tools"
   ]
  },
  {
   "cell_type": "code",
   "execution_count": 8,
   "metadata": {},
   "outputs": [],
   "source": [
    "# Extract all games into one DataFrame\n",
    "games = []\n",
    "for i in range(1, 4):\n",
    "    game_cols = [\n",
    "        f\"Game {i} Red Champ\",\n",
    "        f\"Game {i} Blue Champ\",\n",
    "        f\"Game {i} Winner\",\n",
    "    ]\n",
    "    if f\"Game {i} Winner\" in data.columns:\n",
    "        game_data = data.loc[data[f\"Game {i} Winner\"].notna(), [\"Rounds\", \"Red\", \"Blue\"] + game_cols]\n",
    "        game_data = game_data.rename(columns={\n",
    "            \"Red\": \"Red Player\",\n",
    "            \"Blue\": \"Blue Player\",\n",
    "            f\"Game {i} Winner\": \"Winner\",\n",
    "        })\n",
    "        games.append(game_data)\n",
    "\n",
    "# Combine all game data into a single DataFrame\n",
    "games_df = pd.concat(games, ignore_index=True)\n",
    "\n",
    "# Calculate stats for each player\n",
    "players = set(games_df[\"Red Player\"]).union(games_df[\"Blue Player\"])\n",
    "stats = {player: {\"Games Played\": 0, \"Wins\": 0, \"Loses\": 0} for player in players}\n",
    "\n",
    "for _, row in games_df.iterrows():\n",
    "    red_player = row[\"Red Player\"]\n",
    "    blue_player = row[\"Blue Player\"]\n",
    "    winner = row[\"Winner\"]\n",
    "    \n",
    "    stats[red_player][\"Games Played\"] += 1\n",
    "    stats[blue_player][\"Games Played\"] += 1\n",
    "    \n",
    "    if winner == red_player:\n",
    "        stats[red_player][\"Wins\"] += 1\n",
    "        stats[blue_player][\"Loses\"] += 1\n",
    "    elif winner == blue_player:\n",
    "        stats[blue_player][\"Wins\"] += 1\n",
    "        stats[red_player][\"Loses\"] += 1\n",
    "\n",
    "# Calculate derived metrics and rank by score\n",
    "stats_df = pd.DataFrame.from_dict(stats, orient=\"index\")\n",
    "stats_df[\"Net Wins\"] = stats_df[\"Wins\"] - stats_df[\"Loses\"]\n",
    "stats_df[\"Score\"] = stats_df[\"Wins\"] * 3\n",
    "stats_df[\"Rank\"] = stats_df[\"Score\"].rank(ascending=False, method=\"min\").astype(int)\n",
    "stats_df = stats_df.sort_values(by=\"Score\", ascending=False)\n"
   ]
  }
 ],
 "metadata": {
  "kernelspec": {
   "display_name": "Python 3.11.5 ('base')",
   "language": "python",
   "name": "python3"
  },
  "language_info": {
   "codemirror_mode": {
    "name": "ipython",
    "version": 3
   },
   "file_extension": ".py",
   "mimetype": "text/x-python",
   "name": "python",
   "nbconvert_exporter": "python",
   "pygments_lexer": "ipython3",
   "version": "3.11.5"
  },
  "orig_nbformat": 4,
  "vscode": {
   "interpreter": {
    "hash": "91498c77d25896653101b417bae7769cd37ea0539cc44e5a6d86d1b2651db119"
   }
  }
 },
 "nbformat": 4,
 "nbformat_minor": 2
}
